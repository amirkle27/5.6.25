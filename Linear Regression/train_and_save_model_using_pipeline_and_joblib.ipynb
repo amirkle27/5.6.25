{
 "cells": [
  {
   "cell_type": "markdown",
   "id": "7af36f0e-2453-4a73-9974-4a2ece3c082b",
   "metadata": {},
   "source": [
    "# Question 2:\n"
   ]
  },
  {
   "cell_type": "markdown",
   "id": "6bc26d40-0856-4e7f-b964-67a9fdba3173",
   "metadata": {},
   "source": [
    "### 1. use the code below"
   ]
  },
  {
   "cell_type": "code",
   "execution_count": 32,
   "id": "404be112-6e99-4dd6-a419-f43e316edaff",
   "metadata": {},
   "outputs": [
    {
     "name": "stdout",
     "output_type": "stream",
     "text": [
      "Model fitted\n",
      "Coefficient: 1.0485\n",
      "Intercept: 0.9333\n",
      "Predictions on new data: [6.17575758]\n"
     ]
    }
   ],
   "source": [
    "import numpy as np\n",
    "from sklearn.linear_model import LinearRegression\n",
    "import joblib \n",
    "\n",
    "\n",
    "# Create simple data with 10 data points\n",
    "X = np.array([1, 2, 3, 4, 5, 6, 7, 8, 9, 10]).reshape(-1, 1)  # reshape for sklearn\n",
    "y = np.array([2, 4, 5, 4, 5, 7, 8, 9, 11, 12])\n",
    "\n",
    "# Fit the model\n",
    "model = LinearRegression()\n",
    "model.fit(X, y)\n",
    "print(\"Model fitted\")\n",
    "print(f\"Coefficient: {model.coef_[0]:.4f}\")\n",
    "print(f\"Intercept: {model.intercept_:.4f}\")\n",
    "\n",
    "new_data = np.array([5]).reshape(-1, 1)\n",
    "new_predictions = model.predict(new_data)\n",
    "print(\"Predictions on new data:\", new_predictions)"
   ]
  },
  {
   "cell_type": "markdown",
   "id": "901e2bed-5f1e-4fcf-ab75-b432590c016f",
   "metadata": {},
   "source": [
    "### 2. save the model"
   ]
  },
  {
   "cell_type": "code",
   "execution_count": 6,
   "id": "cea5e43a-b42d-40a5-a403-48f98d2038a6",
   "metadata": {},
   "outputs": [
    {
     "name": "stdout",
     "output_type": "stream",
     "text": [
      "Model saved successfully!\n"
     ]
    }
   ],
   "source": [
    "joblib.dump(model,'linear_regression_model.joblib')\n",
    "print(\"Model saved successfully!\")"
   ]
  },
  {
   "cell_type": "markdown",
   "id": "6da58aa4-6112-4b97-be1b-812e00e51a4a",
   "metadata": {},
   "source": [
    "### 3. in a new program, load the model and ask the user to input a number, show the prediction for this value"
   ]
  },
  {
   "cell_type": "markdown",
   "id": "03c57e72-0942-4f91-80cd-d51df098464c",
   "metadata": {},
   "source": [
    "# for Question 2.3, please see 'Question 2_3.ipynb'"
   ]
  },
  {
   "cell_type": "code",
   "execution_count": null,
   "id": "dd6a78c3-ffe1-4aa9-b7a2-3ad9350b0073",
   "metadata": {},
   "outputs": [],
   "source": [
    "import numpy as np\n",
    "from sklearn.linear_model import LinearRegression\n",
    "from sklearn.preprocessing import StandardScaler\n",
    "from sklearn.pipeline import Pipeline\n",
    "import joblib\n",
    "\n",
    "# יצירת הנתונים\n",
    "X = np.array([1, 2, 3, 4, 5, 6, 7, 8, 9, 10]).reshape(-1, 1)\n",
    "y = np.array([2, 4, 5, 4, 5, 7, 8, 9, 11, 12])\n",
    "\n",
    "# יצירת Pipeline עם scaler + מודל\n",
    "model = Pipeline([\n",
    "    ('scaler', StandardScaler()),\n",
    "    ('regressor', LinearRegression())\n",
    "])\n",
    "\n",
    "# אימון המודל (כולל scaler)\n",
    "model.fit(X, y)\n",
    "print(\"Model fitted and scaled!\")\n",
    "\n",
    "# חיזוי על ערך חדש\n",
    "new_data = np.array([5]).reshape(-1, 1)\n",
    "new_prediction = model.predict(new_data)\n",
    "print(f\"Prediction for 5: {new_prediction[0]:.3f}\")\n",
    "\n",
    "# שמירה לקובץ\n",
    "joblib.dump(model, 'linear_model.joblib')\n",
    "print(\"Model saved to 'linear_model.joblib'\")"
   ]
  },
  {
   "cell_type": "markdown",
   "id": "5661bf23-d7bc-4813-811e-bc7aa6dbd7d6",
   "metadata": {},
   "source": [
    "### 4. in the code below, does the dump also include the scaler? do we need to add code that scales before prediction?\n"
   ]
  },
  {
   "cell_type": "code",
   "execution_count": null,
   "id": "35aef8b4-f768-47ed-860d-1cb62a14277c",
   "metadata": {},
   "outputs": [],
   "source": [
    "model = Pipeline([\n",
    "    ('scaler', StandardScaler()),\n",
    "    ('regressor', LinearRegression())\n",
    "])\n",
    "model.fit(X, y)\n",
    "joblib.dump(model, 'linear_model.joblib')"
   ]
  },
  {
   "cell_type": "markdown",
   "id": "a9487967-101c-481a-9e14-bec2c4e0ca8f",
   "metadata": {},
   "source": [
    "### In the code above, the dump also includes the scaler. That's because one of the Pipeline's properties is to scale the data bebore using it in a regression line. \n",
    "### That's why we use the StandardScaler() line withinthe Pipeline function.\n",
    "\n",
    "### We dont need to add another code that scales before prediction, because the action is already done automatically by the Pipeline\n"
   ]
  }
 ],
 "metadata": {
  "kernelspec": {
   "display_name": "Python 3 (ipykernel)",
   "language": "python",
   "name": "python3"
  },
  "language_info": {
   "codemirror_mode": {
    "name": "ipython",
    "version": 3
   },
   "file_extension": ".py",
   "mimetype": "text/x-python",
   "name": "python",
   "nbconvert_exporter": "python",
   "pygments_lexer": "ipython3",
   "version": "3.12.7"
  }
 },
 "nbformat": 4,
 "nbformat_minor": 5
}
