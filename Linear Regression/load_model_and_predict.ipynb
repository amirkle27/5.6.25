{
 "cells": [
  {
   "cell_type": "markdown",
   "id": "7859b339-7798-48a4-9bac-f647c6c01dea",
   "metadata": {},
   "source": [
    "# Question 2:"
   ]
  },
  {
   "cell_type": "markdown",
   "id": "571a2dda-e9e0-4376-8b55-ed894125441f",
   "metadata": {},
   "source": [
    "### 3. load the model and ask the user to input a number, show the prediction for this value"
   ]
  },
  {
   "cell_type": "code",
   "execution_count": 1,
   "id": "daa3fc5d-21c5-4a6f-98f2-ff737c8a1098",
   "metadata": {},
   "outputs": [],
   "source": [
    "import numpy as np\n",
    "from sklearn.linear_model import LinearRegression\n",
    "import joblib "
   ]
  },
  {
   "cell_type": "code",
   "execution_count": 11,
   "id": "3e6738b8-ae70-4830-a018-005b9eee311d",
   "metadata": {},
   "outputs": [
    {
     "name": "stdout",
     "output_type": "stream",
     "text": [
      "Model loaded successfully!\n"
     ]
    }
   ],
   "source": [
    "loaded_model = joblib.load('linear_regression_model.joblib')\n",
    "print(\"Model loaded successfully!\")"
   ]
  },
  {
   "cell_type": "code",
   "execution_count": 61,
   "id": "4576d3be-6548-422f-982c-c1ad1208c511",
   "metadata": {},
   "outputs": [
    {
     "name": "stdin",
     "output_type": "stream",
     "text": [
      "Please enter a number 4.52\n"
     ]
    }
   ],
   "source": [
    "user_num = float(input(\"Please enter a number\"))"
   ]
  },
  {
   "cell_type": "code",
   "execution_count": 63,
   "id": "ffd13940-b3c4-427f-869a-82e3ed1737a8",
   "metadata": {},
   "outputs": [],
   "source": [
    "new_data = np.array([user_num]).reshape(-1,1)"
   ]
  },
  {
   "cell_type": "code",
   "execution_count": 67,
   "id": "c4c9a447-4387-4ff9-b264-5147c4245fd2",
   "metadata": {},
   "outputs": [
    {
     "name": "stdout",
     "output_type": "stream",
     "text": [
      "Prediction for 4.52: 5.672\n"
     ]
    }
   ],
   "source": [
    "new_prediction = loaded_model.predict(new_data)\n",
    "print(f\"Prediction for {(user_num)}: {new_prediction[0]:.3f}\")"
   ]
  }
 ],
 "metadata": {
  "kernelspec": {
   "display_name": "Python 3 (ipykernel)",
   "language": "python",
   "name": "python3"
  },
  "language_info": {
   "codemirror_mode": {
    "name": "ipython",
    "version": 3
   },
   "file_extension": ".py",
   "mimetype": "text/x-python",
   "name": "python",
   "nbconvert_exporter": "python",
   "pygments_lexer": "ipython3",
   "version": "3.12.7"
  }
 },
 "nbformat": 4,
 "nbformat_minor": 5
}
