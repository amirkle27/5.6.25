{
 "cells": [
  {
   "cell_type": "markdown",
   "id": "a2774e59-b847-4bad-b67f-ba5189ed46ba",
   "metadata": {},
   "source": [
    "# Question 1:"
   ]
  },
  {
   "cell_type": "code",
   "execution_count": 3,
   "id": "ba92e673-3806-4d64-8529-ec0948480a8b",
   "metadata": {},
   "outputs": [],
   "source": [
    "import numpy as np\n",
    "from sklearn.metrics import mean_absolute_error, mean_squared_error\n",
    "\n",
    "y_true = np.array([\n",
    "    10.5, 8.2, 7.3, 15.4, 12.0,\n",
    "    9.8, 6.7, 11.2, 13.5, 9.0,\n",
    "    8.1, 14.2, 10.0, 7.5, 12.8,\n",
    "    9.3, 11.8, 8.9, 10.7, 13.1\n",
    "])\n",
    "\n",
    "# predicted values\n",
    "y_pred = np.array([\n",
    "    11.2, 7.8, 7.0, 16.1, 11.5,\n",
    "    9.5, 7.2, 10.8, 14.0, 8.7,\n",
    "    8.5, 13.9, 10.4, 7.8, 12.5,\n",
    "    9.0, 12.3, 9.4, 11.1, 12.8\n",
    "])\n",
    "\n"
   ]
  },
  {
   "cell_type": "markdown",
   "id": "9d47cc47-fcf9-4b5e-b35c-86fac1ff3504",
   "metadata": {},
   "source": [
    "### 1. Calculate the Mean Absolute Error (MAE).\n"
   ]
  },
  {
   "cell_type": "code",
   "execution_count": 12,
   "id": "fcbe4d77-376f-46b1-b447-c7baf95eba7d",
   "metadata": {},
   "outputs": [
    {
     "name": "stdout",
     "output_type": "stream",
     "text": [
      "MAE: 0.415\n"
     ]
    }
   ],
   "source": [
    "mae = mean_absolute_error(y_true,y_pred)\n",
    "print(f\"MAE: {mae:.3f}\")"
   ]
  },
  {
   "cell_type": "markdown",
   "id": "84800a16-4f95-42b5-82bc-10e4b5548646",
   "metadata": {},
   "source": [
    "### 2. Calculate the Mean Squared Error (MSE).\n"
   ]
  },
  {
   "cell_type": "code",
   "execution_count": 20,
   "id": "a1cd7678-ea4d-45d3-b953-05efad0cc003",
   "metadata": {},
   "outputs": [
    {
     "name": "stdout",
     "output_type": "stream",
     "text": [
      "MSE: 0.187\n"
     ]
    }
   ],
   "source": [
    "mse = mean_squared_error(y_true,y_pred)\n",
    "print(f\"MSE: {mse:.3f}\")\n"
   ]
  },
  {
   "cell_type": "markdown",
   "id": "2fc71712-91ba-475c-b7aa-fb1431eb7369",
   "metadata": {},
   "source": [
    "### 3. Calculate the Root Mean Squared Error (RMSE)."
   ]
  },
  {
   "cell_type": "code",
   "execution_count": 37,
   "id": "22c4c6a5-e39c-4b7f-9790-430ea4d08f21",
   "metadata": {},
   "outputs": [
    {
     "name": "stdout",
     "output_type": "stream",
     "text": [
      "RMSE: 0.433\n"
     ]
    },
    {
     "name": "stderr",
     "output_type": "stream",
     "text": [
      "C:\\Users\\123\\anaconda3\\Lib\\site-packages\\sklearn\\metrics\\_regression.py:492: FutureWarning: 'squared' is deprecated in version 1.4 and will be removed in 1.6. To calculate the root mean squared error, use the function'root_mean_squared_error'.\n",
      "  warnings.warn(\n"
     ]
    }
   ],
   "source": [
    "rmse = mean_squared_error(y_true,y_pred,squared=False)\n",
    "print(f\"RMSE: {rmse:.3f}\")"
   ]
  }
 ],
 "metadata": {
  "kernelspec": {
   "display_name": "Python 3 (ipykernel)",
   "language": "python",
   "name": "python3"
  },
  "language_info": {
   "codemirror_mode": {
    "name": "ipython",
    "version": 3
   },
   "file_extension": ".py",
   "mimetype": "text/x-python",
   "name": "python",
   "nbconvert_exporter": "python",
   "pygments_lexer": "ipython3",
   "version": "3.12.7"
  }
 },
 "nbformat": 4,
 "nbformat_minor": 5
}
